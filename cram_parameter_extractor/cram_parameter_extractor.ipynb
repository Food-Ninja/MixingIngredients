{
 "cells": [
  {
   "cell_type": "code",
   "execution_count": 1,
   "metadata": {
    "collapsed": true,
    "pycharm": {
     "name": "#%%\n"
    }
   },
   "outputs": [
    {
     "name": "stderr",
     "output_type": "stream",
     "text": [
      "Unknown attribute \"type\" in /robot[@name='pr2']/link[@name='base_laser_link']\n",
      "Unknown attribute \"type\" in /robot[@name='pr2']/link[@name='wide_stereo_optical_frame']\n",
      "Unknown attribute \"type\" in /robot[@name='pr2']/link[@name='narrow_stereo_optical_frame']\n",
      "Unknown attribute \"type\" in /robot[@name='pr2']/link[@name='laser_tilt_link']\n",
      "Unknown attribute \"type\" in /robot[@name='pr2']/link[@name='base_laser_link']\n",
      "Unknown attribute \"type\" in /robot[@name='pr2']/link[@name='wide_stereo_optical_frame']\n",
      "Unknown attribute \"type\" in /robot[@name='pr2']/link[@name='narrow_stereo_optical_frame']\n",
      "Unknown attribute \"type\" in /robot[@name='pr2']/link[@name='laser_tilt_link']\n"
     ]
    }
   ],
   "source": [
    "import numpy as np\n",
    "import pycram"
   ]
  },
  {
   "cell_type": "code",
   "execution_count": 2,
   "outputs": [
    {
     "name": "stderr",
     "output_type": "stream",
     "text": [
      "Unknown tag \"material\" in /robot[@name='plane']/link[@name='planeLink']/collision[1]\n",
      "Unknown tag \"contact\" in /robot[@name='plane']/link[@name='planeLink']\n",
      "Unknown tag \"material\" in /robot[@name='plane']/link[@name='planeLink']/collision[1]\n",
      "Unknown tag \"contact\" in /robot[@name='plane']/link[@name='planeLink']\n",
      "Scalar element defined multiple times: limit\n",
      "Scalar element defined multiple times: limit\n"
     ]
    }
   ],
   "source": [
    "from pycram.bullet_world import BulletWorld, Object\n",
    "\n",
    "world = BulletWorld()\n",
    "kitchen = Object(\"kitchen\", \"environment\", \"kitchen.urdf\")"
   ],
   "metadata": {
    "collapsed": false,
    "pycharm": {
     "name": "#%%\n"
    }
   }
  },
  {
   "cell_type": "code",
   "execution_count": 3,
   "outputs": [
    {
     "name": "stderr",
     "output_type": "stream",
     "text": [
      "Unknown attribute \"type\" in /robot[@name='pr2']/link[@name='base_laser_link']\n",
      "Unknown attribute \"type\" in /robot[@name='pr2']/link[@name='wide_stereo_optical_frame']\n",
      "Unknown attribute \"type\" in /robot[@name='pr2']/link[@name='narrow_stereo_optical_frame']\n",
      "Unknown attribute \"type\" in /robot[@name='pr2']/link[@name='laser_tilt_link']\n",
      "Unknown attribute \"type\" in /robot[@name='pr2']/link[@name='base_laser_link']\n",
      "Unknown attribute \"type\" in /robot[@name='pr2']/link[@name='wide_stereo_optical_frame']\n",
      "Unknown attribute \"type\" in /robot[@name='pr2']/link[@name='narrow_stereo_optical_frame']\n",
      "Unknown attribute \"type\" in /robot[@name='pr2']/link[@name='laser_tilt_link']\n"
     ]
    }
   ],
   "source": [
    "import pycram.bullet_world_reasoning as btr\n",
    "\n",
    "milk = Object(\"milk\", \"milk\", \"milk.stl\", position=[1, 0, 1])\n",
    "pr2 = Object(\"pr2\", \"robot\", \"pr2.urdf\")\n",
    "bowl = Object(\"bowl\", \"bowl\", \"bowl.stl\", position=[1, 0.5, 1])"
   ],
   "metadata": {
    "collapsed": false,
    "pycharm": {
     "name": "#%%\n"
    }
   }
  },
  {
   "cell_type": "markdown",
   "source": [
    "# Remarks to Pick and Place Plan\n",
    "1. The milk pack is placed on top of the bowl, since the SemanticCostmapLocation returns a single identical pose for both objects\n",
    "2. Is there any reasoner to check if two or more objects clip into each other ?\n",
    "3. How the hell do we implement pouring, we probably have to implement our own pouring motion."
   ],
   "metadata": {
    "collapsed": false,
    "pycharm": {
     "name": "#%% md\n"
    }
   }
  },
  {
   "cell_type": "code",
   "execution_count": 36,
   "outputs": [],
   "source": [
    "from pycram.designators import *\n",
    "from pycram.process_module import simulated_robot\n",
    "from pycram.enums import Arms\n",
    "\n",
    "#for x in range(20):\n",
    "\n",
    "world.reset_bullet_world()\n",
    "\n",
    "milk_desig = BelieveObject(names=[\"milk\"])\n",
    "bowl_desig = BelieveObject(names=[\"bowl\"])\n",
    "robot_desig = BelieveObject(types=[\"robot\"]).resolve()\n",
    "# pycram.designators.motion_designator.MoveTCPMotion()\n",
    "for believe_obj in [bowl_desig, milk_desig]:\n",
    "    with simulated_robot:\n",
    "        ParkArmsAction([Arms.BOTH]).resolve().perform()\n",
    "        MoveTorsoAction([0.05]).resolve().perform()\n",
    "        LookAtAction(targets=[milk_desig.resolve().pose]).resolve().perform()\n",
    "        obj_desig = DetectAction(believe_obj).resolve().perform()\n",
    "        location_description = CostmapLocation(target=obj_desig, reachable_for=robot_desig)\n",
    "        location_description.resolve()\n",
    "        for pose in location_description:\n",
    "            p = pose.pose\n",
    "            reachable_arms = pose.reachable_arms\n",
    "            break\n",
    "        NavigateAction.Action(p).perform()\n",
    "        PickUpAction(object_designator_description=believe_obj,\n",
    "                         arms=reachable_arms,\n",
    "                         grasps=[\"front\"]).resolve().perform()\n",
    "        ParkArmsAction([Arms.BOTH]).resolve().perform()\n",
    "        kitchen_description = ObjectDesignatorDescription(names=['kitchen']).resolve()\n",
    "        object_locations = SemanticCostmapLocation(urdf_link_name=\"kitchen_island_surface\", part_of=kitchen_description,\n",
    "                                                   for_object=obj_desig).resolve()\n",
    "        place_location = CostmapLocation(target=object_locations.pose, reachable_for=robot_desig, reachable_arm=reachable_arms[0])\n",
    "        place_location.resolve()\n",
    "\n",
    "        for pose in place_location:\n",
    "            p3 = pose.pose\n",
    "            break\n",
    "\n",
    "        NavigateAction.Action(p3).perform()\n",
    "        PlaceAction(object_designator_description=believe_obj,\n",
    "                    target_locations=[object_locations.pose],\n",
    "                    arms=[\"left\"]).resolve().perform()\n",
    "        ParkArmsAction.Action(Arms.BOTH).perform()\n",
    "\n",
    "        # Testing tilting motion ?\n",
    "        position = list(pr2.get_link_position(\"l_gripper_tool_frame\"))\n",
    "        orientation = list(pr2.get_link_orientation(\"l_gripper_tool_frame\"))\n",
    "        orientation[0] = orientation[0] + 0.4#\n",
    "        position[0] = position[0] + 0.4\n",
    "        MoveTorsoAction([0.25]).resolve().perform()\n",
    "        MoveTCPMotion(target=[list(position), list(orientation)], arm=\"left\").resolve().perform()"
   ],
   "metadata": {
    "collapsed": false,
    "pycharm": {
     "name": "#%%\n"
    }
   }
  },
  {
   "cell_type": "code",
   "execution_count": null,
   "outputs": [],
   "source": [
    "\"\"\"\n",
    "Benutze stattdessen den pose_generator um Posen für die Milchpackung zu generieren\n",
    "\"\"\"\n",
    "\n",
    "from pycram.enums import Arms\n",
    "from pycram.designators.action_designator import ParkArmsAction\n",
    "import pycram.costmaps as cm\n",
    "from pycram.process_module import simulated_robot, with_simulated_robot\n",
    "\n",
    "s = cm.SemanticCostmap(kitchen, \"kitchen_island_surface\", size=100, resolution=0.02)\n",
    "milk_aabb = milk.get_AABB()\n",
    "# Sample 1000 poses on the kitchen island surface\n",
    "poses = pycram.pose_generator_and_validator.pose_generator(costmap=s, number_of_samples=1000)\n",
    "with simulated_robot:\n",
    "    ParkArmsAction([Arms.BOTH]).resolve().perform()\n",
    "\n",
    "#Todo: Fix collision and clipping through the walls.\n",
    "for pose in poses:\n",
    "    print(pose)\n",
    "    # Without this offset, the milkbottle clips into the islands surface\n",
    "    offset = np.sqrt(np.square(pose[0][2] - milk_aabb[0][2]))\n",
    "    position = np.array([pose[0][0],pose[0][1],pose[0][2] + offset])\n",
    "    milk.set_position(position)\n",
    "    robot_desig = BelieveObject(types=[\"robot\"]).resolve()\n",
    "    location_description = CostmapLocation(target=milk_desig, reachable_for=robot_desig)\n",
    "    for pose in location_description:\n",
    "        p = pose.pose\n",
    "        pr2.set_position_and_orientation(p[0],p[1])\n",
    "        # Is object visible for the pr2\n",
    "        is_visible = CostmapLocation(target=milk_desig, visible_for=robot_desig)\n",
    "        break"
   ],
   "metadata": {
    "collapsed": false,
    "pycharm": {
     "name": "#%%\n",
     "is_executing": true
    }
   }
  },
  {
   "cell_type": "code",
   "execution_count": 83,
   "outputs": [],
   "source": [
    "world.reset_bullet_world()"
   ],
   "metadata": {
    "collapsed": false,
    "pycharm": {
     "name": "#%%\n"
    }
   }
  },
  {
   "cell_type": "code",
   "execution_count": 85,
   "outputs": [],
   "source": [
    "world.exit()"
   ],
   "metadata": {
    "collapsed": false,
    "pycharm": {
     "name": "#%%\n"
    }
   }
  }
 ],
 "metadata": {
  "kernelspec": {
   "display_name": "Python 3",
   "language": "python",
   "name": "python3"
  },
  "language_info": {
   "codemirror_mode": {
    "name": "ipython",
    "version": 2
   },
   "file_extension": ".py",
   "mimetype": "text/x-python",
   "name": "python",
   "nbconvert_exporter": "python",
   "pygments_lexer": "ipython2",
   "version": "2.7.6"
  }
 },
 "nbformat": 4,
 "nbformat_minor": 0
}